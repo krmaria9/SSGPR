{
 "cells": [
  {
   "cell_type": "code",
   "execution_count": 4,
   "metadata": {},
   "outputs": [],
   "source": [
    "import numpy as np\n",
    "import matplotlib.pyplot as plt\n",
    "from ssgpr import SSGPR"
   ]
  },
  {
   "cell_type": "markdown",
   "metadata": {},
   "source": [
    "## Data"
   ]
  },
  {
   "cell_type": "code",
   "execution_count": 5,
   "metadata": {},
   "outputs": [],
   "source": [
    "import urllib.request\n",
    "import os.path\n",
    "from scipy.io import loadmat\n",
    "from math import floor\n",
    "\n",
    "if not os.path.isfile('data/elevators.mat'):\n",
    "    print('Downloading \\'elevators\\' UCI dataset...')\n",
    "    urllib.request.urlretrieve('https://drive.google.com/uc?export=download&id=1jhWL3YUHvXIaftia4qeAyDwVxo6j1alk', 'data/elevators.mat')\n",
    "\n",
    "data = np.array(loadmat('data/elevators.mat')['data'])\n",
    "X = data[:, :-1]\n",
    "X = X - X.min(0)[0]\n",
    "X = 2 * (X / X.max(0)[0]) - 1\n",
    "y = data[:, -1]\n",
    "\n",
    "# 1000 data points and 10 dimensions\n",
    "dataX = X[0:1000,0:10]\n",
    "datay = y[0:1000]\n",
    "\n",
    "train_n = int(floor(0.8*len(dataX)))\n",
    "\n",
    "train_x = dataX[:train_n, :]\n",
    "train_y = datay[:train_n]\n",
    "\n",
    "test_x = dataX[train_n:, :]\n",
    "test_y = datay[train_n:]"
   ]
  },
  {
   "cell_type": "markdown",
   "metadata": {},
   "source": [
    "## Add data and optimise"
   ]
  },
  {
   "cell_type": "code",
   "execution_count": 6,
   "metadata": {},
   "outputs": [
    {
     "name": "stdout",
     "output_type": "stream",
     "text": [
      "***************************************************\n",
      "*              Optimizing parameters              *\n",
      "***************************************************\n",
      "Optimization terminated successfully.\n",
      "restart # 1, negative log-likelihood = -143.713016\n",
      "Optimization terminated successfully.\n",
      "restart # 2, negative log-likelihood = -141.544287\n",
      "Optimization terminated successfully.\n",
      "restart # 3, negative log-likelihood = -143.772024\n",
      "Using restart # 3 results:\n",
      "lengthscales:  [  3.91384398e+00   3.36955641e+01   8.01950395e-01   1.78724029e-04\n",
      "   5.87285149e-01   1.76200853e-02   2.25033404e-02   1.37328503e-03\n",
      "   8.40800509e-03   8.29541269e-02]\n",
      "prior variance:  0.562296884597\n",
      "noise variance:  0.0360026021657\n"
     ]
    }
   ],
   "source": [
    "# initialise hyperparams\n",
    "\n",
    "\n",
    "ssgpr = SSGPR(100)\n",
    "ssgpr.add_data(train_x, train_y)\n",
    "ssgpr.optimise(restarts=3, method=\"Nelder-Mead\", opt_spectral=False)"
   ]
  },
  {
   "cell_type": "code",
   "execution_count": 7,
   "metadata": {},
   "outputs": [],
   "source": [
    "mu, stdev = ssgpr.predict(test_x)"
   ]
  },
  {
   "cell_type": "code",
   "execution_count": 8,
   "metadata": {},
   "outputs": [
    {
     "name": "stdout",
     "output_type": "stream",
     "text": [
      "Test MSE: 0.034078331317566636\n"
     ]
    }
   ],
   "source": [
    "print('Test MSE: {}'.format(((mu - test_y)**2).mean()))"
   ]
  },
  {
   "cell_type": "code",
   "execution_count": null,
   "metadata": {},
   "outputs": [],
   "source": []
  }
 ],
 "metadata": {
  "kernelspec": {
   "display_name": "Python (reinforcement_learning)",
   "language": "python",
   "name": "reinforcement_learning"
  },
  "language_info": {
   "codemirror_mode": {
    "name": "ipython",
    "version": 3
   },
   "file_extension": ".py",
   "mimetype": "text/x-python",
   "name": "python",
   "nbconvert_exporter": "python",
   "pygments_lexer": "ipython3",
   "version": "3.5.5"
  }
 },
 "nbformat": 4,
 "nbformat_minor": 2
}
